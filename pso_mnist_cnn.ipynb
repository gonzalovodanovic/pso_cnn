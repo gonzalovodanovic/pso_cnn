{
 "cells": [
  {
   "cell_type": "markdown",
   "metadata": {},
   "source": [
    "# Optimización de parámetros de modelos de aprendizaje profundo utilizando Particle Swarm Optimization\n",
    "\n",
    "## Importaciones\n",
    "\n",
    "- numpy\n",
    "- tensorFlow \n",
    "- Keras\n",
    "- Optunity\n",
    "- Entre otras\n",
    "\n",
    "Se agrega la configuración necesaria para que el experimento sea reproducible, informacion obtenida de la pagina oficial de Keras (https://keras.io/getting-started/faq/#how-can-i-obtain-reproducible-results-using-keras-during-development). Para que el resultado sea exactamente el mismo en todas las ejecuciones no es posible utilizar paralelismo, esto hace que el tiempo de ejecución aumente demasiado. Sin embargo, la diferencia entre experimentos al utilizar paralelismo es baja (tercer digito) por lo que se decidio aceptar esta diferencia y reducir los tiempos de computo."
   ]
  },
  {
   "cell_type": "code",
   "execution_count": 22,
   "metadata": {
    "collapsed": true
   },
   "outputs": [],
   "source": [
    "%matplotlib inline\n",
    "import matplotlib.pyplot as plt \n",
    "import numpy as np\n",
    "np.random.seed(42)\n",
    "import tensorflow as tf\n",
    "tf.set_random_seed(1234)\n",
    "import random as rn\n",
    "rn.seed(12345)\n",
    "import os\n",
    "os.environ['PYTHONHASHSEED'] = '0' \n",
    "from keras import backend as K\n",
    "\n",
    "import math\n",
    "import time\n",
    "from datetime import timedelta\n",
    "#from utilities import *\n",
    "import optunity\n",
    "import optunity.metrics\n",
    "from keras.models import Sequential\n",
    "from keras.layers import InputLayer, Input\n",
    "from keras.layers import Reshape, MaxPooling2D\n",
    "from keras.layers import Conv2D, Dense, Flatten\n",
    "from keras.optimizers import Adam"
   ]
  },
  {
   "cell_type": "code",
   "execution_count": 24,
   "metadata": {},
   "outputs": [
    {
     "data": {
      "text/html": [
       "<script>\n",
       "code_show=true; \n",
       "function code_toggle() {\n",
       "    if (code_show){\n",
       "        $('div.cell.code_cell.rendered.selected div.input').hide();\n",
       "    } else {\n",
       "        $('div.cell.code_cell.rendered.selected div.input').show();\n",
       "    }\n",
       "    code_show = !code_show\n",
       "} \n",
       "$( document ).ready(code_toggle);\n",
       "</script>\n",
       "To show/hide this cell's raw code input, click <a href=\"javascript:code_toggle()\">here</a>."
      ],
      "text/plain": [
       "<IPython.core.display.HTML object>"
      ]
     },
     "metadata": {},
     "output_type": "display_data"
    }
   ],
   "source": [
    "from IPython.display import HTML\n",
    "from IPython.display import display\n",
    "\n",
    "# Taken from https://stackoverflow.com/questions/31517194/how-to-hide-one-specific-cell-input-or-output-in-ipython-notebook\n",
    "tag = HTML('''<script>\n",
    "code_show=true; \n",
    "function code_toggle() {\n",
    "    if (code_show){\n",
    "        $('div.cell.code_cell.rendered.selected div.input').hide();\n",
    "    } else {\n",
    "        $('div.cell.code_cell.rendered.selected div.input').show();\n",
    "    }\n",
    "    code_show = !code_show\n",
    "} \n",
    "$( document ).ready(code_toggle);\n",
    "</script>\n",
    "To show/hide this cell's raw code input, click <a href=\"javascript:code_toggle()\">here</a>.''')\n",
    "display(tag)\n",
    "\n",
    "def plot_example_errors():\n",
    "    # Use TensorFlow to get a list of boolean values\n",
    "    # whether each test-image has been correctly classified,\n",
    "    # and a list for the predicted class of each image.\n",
    "    correct, cls_pred = session.run([correct_prediction, y_pred_cls],\n",
    "                                    feed_dict=feed_dict_test)\n",
    "\n",
    "    # Negate the boolean array.\n",
    "    incorrect = (correct == False)\n",
    "    \n",
    "    # Get the images from the test-set that have been\n",
    "    # incorrectly classified.\n",
    "    images = data.test.images[incorrect]\n",
    "    \n",
    "    # Get the predicted classes for those images.\n",
    "    cls_pred = cls_pred[incorrect]\n",
    "\n",
    "    # Get the true classes for those images.\n",
    "    cls_true = data.test.cls[incorrect]\n",
    "    \n",
    "    # Plot the first 9 images.\n",
    "    plot_images(images=images[0:9],\n",
    "                cls_true=cls_true[0:9],\n",
    "                cls_pred=cls_pred[0:9])\n",
    "\n",
    "def plot_images(images, cls_true, cls_pred=None):\n",
    "    assert len(images) == len(cls_true) == 9\n",
    "    \n",
    "    # Create figure with 3x3 sub-plots.\n",
    "    fig, axes = plt.subplots(3, 3)\n",
    "    fig.subplots_adjust(hspace=0.3, wspace=0.3)\n",
    "\n",
    "    for i, ax in enumerate(axes.flat):\n",
    "        # Plot image.\n",
    "        ax.imshow(images[i].reshape(img_shape), cmap='binary')\n",
    "\n",
    "        # Show true and predicted classes.\n",
    "        if cls_pred is None:\n",
    "            xlabel = \"True: {0}\".format(cls_true[i])\n",
    "        else:\n",
    "            xlabel = \"True: {0}, Pred: {1}\".format(cls_true[i], cls_pred[i])\n",
    "\n",
    "        ax.set_xlabel(xlabel)\n",
    "        \n",
    "        # Remove ticks from the plot.\n",
    "        ax.set_xticks([])\n",
    "        ax.set_yticks([])\n",
    "        \n",
    "    # Ensure the plot is shown correctly with multiple plots\n",
    "    # in a single Notebook cell.\n",
    "    plt.show()\n",
    "\n",
    "def print_accuracy():   \n",
    "    # Use TensorFlow to compute the accuracy.\n",
    "    acc = session.run(accuracy, feed_dict=feed_dict_test)\n",
    "    \n",
    "    # Print the accuracy.\n",
    "    print(\"Accuracy on test-set: {0:.1%}\".format(acc))\n",
    "    \n",
    "    \n",
    "def print_confusion_matrix():\n",
    "    # Get the true classifications for the test-set.\n",
    "    cls_true = data.test.cls\n",
    "    \n",
    "    # Get the predicted classifications for the test-set.\n",
    "    cls_pred = session.run(y_pred_cls, feed_dict=feed_dict_test)\n",
    "\n",
    "    # Get the confusion matrix using sklearn.\n",
    "    cm = confusion_matrix(y_true=cls_true,\n",
    "                          y_pred=cls_pred)\n",
    "\n",
    "    # Print the confusion matrix as text.\n",
    "    print(cm)\n",
    "\n",
    "    # Plot the confusion matrix as an image.\n",
    "    plt.imshow(cm, interpolation='nearest', cmap=plt.cm.Blues)\n",
    "\n",
    "    # Make various adjustments to the plot.\n",
    "    plt.tight_layout()\n",
    "    plt.colorbar()\n",
    "    tick_marks = np.arange(num_classes)\n",
    "    plt.xticks(tick_marks, range(num_classes))\n",
    "    plt.yticks(tick_marks, range(num_classes))\n",
    "    plt.xlabel('Predicted')\n",
    "    plt.ylabel('True')\n",
    "    \n",
    "    # Ensure the plot is shown correctly with multiple plots\n",
    "    # in a single Notebook cell.\n",
    "    plt.show()\n",
    "\n",
    "def plot_weights():\n",
    "    # Get the values for the weights from the TensorFlow variable.\n",
    "    w = session.run(weights)\n",
    "    \n",
    "    # Get the lowest and highest values for the weights.\n",
    "    # This is used to correct the colour intensity across\n",
    "    # the images so they can be compared with each other.\n",
    "    w_min = np.min(w)\n",
    "    w_max = np.max(w)\n",
    "\n",
    "    # Create figure with 3x4 sub-plots,\n",
    "    # where the last 2 sub-plots are unused.\n",
    "    fig, axes = plt.subplots(3, 4)\n",
    "    fig.subplots_adjust(hspace=0.3, wspace=0.3)\n",
    "\n",
    "    for i, ax in enumerate(axes.flat):\n",
    "        # Only use the weights for the first 10 sub-plots.\n",
    "        if i<10:\n",
    "            # Get the weights for the i'th digit and reshape it.\n",
    "            # Note that w.shape == (img_size_flat, 10)\n",
    "            image = w[:, i].reshape(img_shape)\n",
    "\n",
    "            # Set the label for the sub-plot.\n",
    "            ax.set_xlabel(\"Weights: {0}\".format(i))\n",
    "\n",
    "            # Plot the image.\n",
    "            ax.imshow(image, vmin=w_min, vmax=w_max, cmap='seismic')\n",
    "\n",
    "        # Remove ticks from each sub-plot.\n",
    "        ax.set_xticks([])\n",
    "        ax.set_yticks([])\n",
    "        \n",
    "    # Ensure the plot is shown correctly with multiple plots\n",
    "    # in a single Notebook cell.\n",
    "    plt.show()"
   ]
  },
  {
   "cell_type": "markdown",
   "metadata": {},
   "source": [
    "## MNIST Dataset\n",
    "\n",
    "Se utiliza el conjunto de datos MNIST, el cual contiene 70.000 imagenes de 28x28 pixeles y las etiquetas correspondientes. Cada una de las imagenes contiene un número del 0 al 9 dibujado a mano, la etiqueta es un vector de 10 elementos con un uno en la ubicación (indice) que se corresponde con el valor representado en la imagen y los demas elementos en cero (codificacion \"one-hot\").\n",
    "\n",
    "Este conjunto de datos se divide en tres subconjuntos:\n",
    "\n",
    "- Entrenamiento\n",
    "- Test\n",
    "- Validación"
   ]
  },
  {
   "cell_type": "code",
   "execution_count": 3,
   "metadata": {},
   "outputs": [
    {
     "name": "stdout",
     "output_type": "stream",
     "text": [
      "Extracting data/MNIST/train-images-idx3-ubyte.gz\n",
      "Extracting data/MNIST/train-labels-idx1-ubyte.gz\n",
      "Extracting data/MNIST/t10k-images-idx3-ubyte.gz\n",
      "Extracting data/MNIST/t10k-labels-idx1-ubyte.gz\n",
      "Size of:\n",
      "- Training-set:\t\t55000\n",
      "- Test-set:\t\t10000\n",
      "- Validation-set:\t5000\n"
     ]
    }
   ],
   "source": [
    "from tensorflow.examples.tutorials.mnist import input_data\n",
    "data = input_data.read_data_sets('data/MNIST/', one_hot=True)\n",
    "data.test.cls = np.array([label.argmax() for label in data.test.labels])\n",
    "print(\"Size of:\")\n",
    "print(\"- Training-set:\\t\\t{}\".format(len(data.train.labels)))\n",
    "print(\"- Test-set:\\t\\t{}\".format(len(data.test.labels)))\n",
    "print(\"- Validation-set:\\t{}\".format(len(data.validation.labels)))"
   ]
  },
  {
   "cell_type": "markdown",
   "metadata": {},
   "source": [
    "## <a name=\"inData\"></a> Dimnsiones de los datos \n",
    "\n",
    "Estas variables son utilizadas a lo largo del código y definen las dimensiones de los datos."
   ]
  },
  {
   "cell_type": "code",
   "execution_count": 4,
   "metadata": {
    "collapsed": true
   },
   "outputs": [],
   "source": [
    "# We know that MNIST images are 28 pixels in each dimension.\n",
    "img_size = 28\n",
    "\n",
    "# Images are stored in one-dimensional arrays of this length.\n",
    "img_size_flat = img_size * img_size\n",
    "\n",
    "# Tuple with height and width of images used to reshape arrays.\n",
    "# This is used for plotting the images.\n",
    "img_shape = (img_size, img_size)\n",
    "\n",
    "# Tuple with height, width and depth used to reshape arrays.\n",
    "# This is used for reshaping in Keras.\n",
    "img_shape_full = (img_size, img_size, 1)\n",
    "\n",
    "# Number of colour channels for the images: 1 channel for gray-scale.\n",
    "num_channels = 1\n",
    "\n",
    "# Number of classes, one class for each of 10 digits.\n",
    "num_classes = 10"
   ]
  },
  {
   "cell_type": "markdown",
   "metadata": {},
   "source": [
    "En el archivo \"utilities.py\" importado al inicio se implementaron funciones para imprimir imagenes en forma sencilla. A continuación se usan algunas de estas funciones para mostrar el set de datos que se esta utilizando."
   ]
  },
  {
   "cell_type": "code",
   "execution_count": 6,
   "metadata": {
    "scrolled": true
   },
   "outputs": [
    {
     "data": {
      "image/png": "[encoded data removed]",
      "text/plain": [
       "<matplotlib.figure.Figure at 0x7f375cf51748>"
      ]
     },
     "metadata": {},
     "output_type": "display_data"
    }
   ],
   "source": [
    "# Get the first images from the test-set.\n",
    "images = data.test.images[0:9]\n",
    "\n",
    "# Get the true classes for those images.\n",
    "cls_true = data.test.cls[0:9]\n",
    "\n",
    "# Plot the images and labels using our helper-function above.\n",
    "plot_images(images=images, cls_true=cls_true)"
   ]
  },
  {
   "cell_type": "markdown",
   "metadata": {},
   "source": [
    "# TensorFlow\n",
    "\n",
    "\n",
    "The entire purpose of TensorFlow is to have a so-called computational graph that can be executed much more efficiently than if the same calculations were to be performed directly in Python. TensorFlow can be more efficient than NumPy because TensorFlow knows the entire computation graph that must be executed, while NumPy only knows the computation of a single mathematical operation at a time.\n",
    "\n",
    "Además, TensorFlow puede calcular autmáticamente los gradientes necesarios para optimizar las variables de los grafos y mejorar la performance del modelo. Esto se debe a que los grafos son una combinación de expresiones matemáticas simples, por lo que el gradiente del grafo se obtiene mediante la _chain rule_ de las derivadas.\n",
    "\n",
    "Un grafo de TensorFlow consiste de las siguientes partes:\n",
    "\n",
    "- Variables _placeholder_: usadas para la entrada de datos al grafo.\n",
    "- Variables del modelo: son aquellas que se modifican durante la optimización del moderlo.\n",
    "- El modelo es esencialmente una funcion matemática que calcula la salida dados los datos entrada, las variables _placeholder_ y las variables del modelo.\n",
    "- La funcion de costo se utiliza para guiar la optimización de las variables.\n",
    "- Un método de optimización que actualiza las variables del modelo.\n",
    "\n",
    "## Variables _Placeholder_\n",
    "\n",
    "Las variables _placeholder_ sirven de entrada al grafo y se modifican cada vez que se ejecuta el mismo. En este caso de ejemplo, las variables _placeholder_ son las imágenes de entrada tratadas como tensores. El tipo de datos se fija a _float32_ y la forma se configura como: $ [None, img\\_size\\_flat] $ donde _None_ significa que el tensor puede almacenar un numero arbitrario de imagenes donde cada una es un vector de tamaño $img\\_size\\_flat$."
   ]
  },
  {
   "cell_type": "code",
   "execution_count": 7,
   "metadata": {},
   "outputs": [],
   "source": [
    "x = tf.placeholder(tf.float32, [None, img_size_flat])"
   ]
  },
  {
   "cell_type": "markdown",
   "metadata": {},
   "source": [
    "Lo siguiente es crear una variable _placeholder_ donde se asocia las imagenes de entradas con las etiquetas verdaderas. La forma de esta variable es $[None, num\\_clases]$ lo que implica que puede almacenar un numero arbitrario de etiquetas y cada una de ellas es un vector del largo $num\\_clases$, en este caso es 10.\n",
    "Finalmente se crea otra variable _placeholder_ similar, donde la clase real de cada imagen esta en formato _integer_."
   ]
  },
  {
   "cell_type": "code",
   "execution_count": 8,
   "metadata": {},
   "outputs": [],
   "source": [
    "y_true = tf.placeholder(tf.float32, [None, num_classes])\n",
    "y_true_cls = tf.placeholder(tf.int64, [None])"
   ]
  },
  {
   "cell_type": "markdown",
   "metadata": {},
   "source": [
    "## Variables a optimizar del modelo\n",
    "\n",
    "Ademas de las variables de _placeholder_ se deben definir variables que se utilizaran para modificar y optimizar el modelo a partir de los datos de entrenamiento. Estas variables, llamadas _weights_ (pesos) y _biases_ (sesgo), se explicaraán en detalle en la siguiente sección. \n",
    "\n",
    "La forma de la variable de pesos es $[img\\_size\\_flat, num\\_classes]$, es decir, es un tensor de dos dimensiones con $img\\_size\\_flat$ filas y $num\\_classes$ columnas. La variable llamada vias es un tensor de una dimensión de largo $num\\_classes$."
   ]
  },
  {
   "cell_type": "code",
   "execution_count": 9,
   "metadata": {},
   "outputs": [],
   "source": [
    "weights = tf.Variable(tf.zeros([img_size_flat, num_classes]))\n",
    "biases = tf.Variable(tf.zeros([num_classes]))"
   ]
  },
  {
   "cell_type": "markdown",
   "metadata": {},
   "source": [
    "## Modelo: Score function\n",
    "\n",
    "Esta es una función que indica la calidad de la clasificación de un dato determinado para cada una de las categorias disponibles. Si se asume que el conjunto de entrenamiento contiene $x_i \\in R^D$ cada uno asociado a una etiqueta $y_i$, siendo $i = 1 \\, ... \\, N$ y que $y_i \\in 1 \\, ... \\, K$. Entonces, se tienen $N$ ejemplos de dimension $D$ y $K$ categorias. \n",
    "Por ejemplo, en el conjunto de datos de entrenamiento de MNIST se tienen $N = 55000$ imágenes, cada una de $D = 28 x 28 = 784$ pixeles. Debido a que existen 10 categorias (0 al 9), $K=10$. \n",
    "\n",
    "Se define a la función \"score\" como:\n",
    "\\begin{equation}\n",
    "f : R^D \\mapsto R^K\n",
    "\\end{equation}\n",
    "donde se mapean los datos de entrada a los \"score\" de cada clase. "
   ]
  },
  {
   "cell_type": "markdown",
   "metadata": {},
   "source": [
    "### Clasificador lineal\n",
    "\n",
    "El clasificador lineal es un modelo simple donde se multiplican las imágenes en las variables _placeholder_ con los pesos (_weight_) y se les suma el sesgo (_bias_):\n",
    "\\begin{equation}\n",
    "s = f(x_i, W,b) = Wx_i \\, + \\, b\n",
    "\\end{equation}\n",
    "\n",
    "En el procesamiento de imagenes, $x_i$ contiene todos los pixeles de una imagen dada en la forma de vector columna $[D \\, \\times \\, 1]$. La matriz $W$ de tamaño $[K \\, \\times \\, D]$ son los pesos de la función y el vector de bias $b$ de tamaño $[K \\, \\times \\, 1]$ se denomina asi por que influye en el resultado final pero sin interactuar con las entradas $x_i$. En conjunto, conforman los parámetros de la función y generalmente se combinan en una unica matrix de tamaño $[K \\, \\times \\, (D + 1) ]$, esto hace neesario modificar el vector columna $X_i$ de la misma manera agregando la constante 1. \n",
    " \n",
    "\\begin{equation}\n",
    "s = f(x_i, W) = Wx_i\n",
    "\\end{equation}\n",
    "\n",
    "Volviendo al ejemplo del conjunto de datos MNIST, $x_i$ es un vector columna de la forma $[785 \\, \\times \\, 1]$ y la matriz de parametros conformada por $W$ en conjunto con $b$ tiene la forma $[10 \\, \\times \\, 785]$. Utilizando la nomenclatura de la sección \"Dimensiones de los datos\" [link](#inData) la forma de las imagenes de entrada es $ x = [num\\_images, img\\_size\\_flat ]$ y la de los pesos $W = [num\\_images, num\\_classes]$ por lo que el resultado tiene la forma $[num\\_images, num\\_classes]$ luego se suma el vector de sesgos a cada fila de la matriz."
   ]
  },
  {
   "cell_type": "code",
   "execution_count": 10,
   "metadata": {},
   "outputs": [],
   "source": [
    "logits = tf.matmul(x, weights) + biases"
   ]
  },
  {
   "cell_type": "markdown",
   "metadata": {},
   "source": [
    "_logits_ es una matriz de num\\_images filas y num\\_classes columnas, donde el elemento de la fila $i$ y de la columna $j$ es un estimado de la probabilidad de que la imagen de entrada $i$ pertenezca a la clase $j$. \n",
    "Nota: el nombre logits es tipico de la terminologia de _TensorFlow_.\n",
    "\n",
    "Se puede ver que a partir de la multiplicación de matrices $W \\; x_i$ efectivamente se estan evaluando 10 clasificadores en paralelo (uno por clase) donde cada clasificador es una fila de $W$. Además, aunque $(x_i,y_i)$ son fijos, se pueden modificar los parametros $W,b$ hasta obtener valores de \"score\" que coincidan con la tabla de verdad durante el entrenamiento. Es decir, los parametros $(W,b)$ se aprenden durante el entrenamiento, pero cuando este finaliza, los datos de entrada pueden descartarse y unicamente mantener dichos parametros.\n",
    "\n",
    "\n",
    "Sin embargo, estos valores estimados son algo complicado de interpretar por que los numeros son demasiado grandes o demasiado chicos. Por lo que se busca normalizar cada fila de la matriz _logits_ para que sume 1 y cada valor este limitado entre cero y uno. Para esto se utiliza la función _softmax_ que se explica en la siguiente sección."
   ]
  },
  {
   "cell_type": "markdown",
   "metadata": {},
   "source": [
    "### Softmax\n",
    "\n",
    "El resultado de la clasificación _softmax_ puede interpretarse como la propabilidad logaritmica no normalizada de que un dato pertenezca a una clase dada. Por lo tanto, para obtener la probabilidad normalizada, es necesario exponenciar el score y dividirlo por el score total:\n",
    "\n",
    "\\begin{equation}\n",
    "P(y_i \\; | \\; x_i ; W) = (\\frac{e^{s_k}}{\\sum_{j}e^{s_j} }) \n",
    "\\end{equation}\n",
    "\n",
    "Considerando que $s_j$ es el \"score\" que se obtiene para la clase j del elemento i: $s_j = f(x_i,W)_j$. Al sumar todas las probabilidades de un elemento frente a las distintas clases se obtiene uno, por esto se dice que está normalizada.\n",
    "\n",
    "Se aplica la función _softmax_ al conjunto de datos utilizado _MNIST_"
   ]
  },
  {
   "cell_type": "code",
   "execution_count": 11,
   "metadata": {},
   "outputs": [],
   "source": [
    "y_pred = tf.nn.softmax(logits)\n",
    "y_pred_cls = tf.argmax(y_pred, axis=1)"
   ]
  },
  {
   "cell_type": "markdown",
   "metadata": {},
   "source": [
    "### Función de pérdida (_loss_) a optimizar\n",
    "\n",
    "La función de perdida cuantifica las diferencias entre las categorias estimadas y las categorias verdaderas. Intuitivamente, la perdida o costo va a ser alta si la clasificación del conjunto de entrenamiento es mala y baja si es buena. Existen distintos métodos para calcular la perdida, los dos mas utilizados son SVM (Multiclass Support Vector Machine) y Softmax.\n",
    "\n",
    "La funcion softmax (idealmente) nos devolvería una probabilidad de uno para la clase verdadera y probabilidad cero para las demás (falsas). Sin embargo, se necesita un unico valor que represente que tan mal se esta clasificando el conjunto de entrenamiento, por lo que se aplica la _cross-entropy_ a la función softmax.\n",
    "\n",
    "La entropía cruzada entre la distribución \"verdadera\" $p$ y la obtenida mediante la función softmax $q$ se define como:\n",
    "\n",
    "\\begin{equation}\n",
    "H(p,q) = - log({\\sum_{x}p(x) \\; log \\, q(x) }) \\\\\n",
    "q = \\frac{e^{s_k}}{\\sum_{j}e^{s_j} })\n",
    "\\end{equation}\n",
    "\n",
    "La entropia cruzada es una funcón cuyo resultado es siempre positivo y si la predicción del modelo es identica a la salida deseada, la entropia cruzada es cero. Es también pensar la entropia cruzada, en este campo, como la distancia entre ambas distribuciones.\n",
    "\n",
    "\\begin{equation}\n",
    "L_i = - log(\\frac{e^{s_k}}{\\sum_{j}e^{s_j} })\n",
    "\\end{equation}\n",
    "\n",
    "En la siguiente imagen puede verse un ejemplo numérico: \n",
    "\n",
    "<img src=\"images/softmax.png\" width=\"60%\">\n",
    "\n",
    "En la práctica, los términos $e^{s_k}$ y $\\sum_{j}e^{s_j}$ pueden volverse muy grandes debido a los exponenciales. Sin embargo, dividilos puede ser numéricamente inestable. Es importante utilizar algun tipo de normalización, por lo general se multiplican ambos términos por una constante $C$:\n",
    "\n",
    "\\begin{equation}\n",
    "(\\frac{e^{s_k}}{\\sum_{j}e^{s_j} }) = (\\frac{C \\, e^{s_k}}{C \\, \\sum_{j}e^{s_j} }) = (\\frac{e^{s_k + log C}}{\\sum_{j}e^{s_j + log C} })\n",
    "\\end{equation}\n",
    "\n",
    "C puede ser cualquier valor y se obtendrá el mismo resultado, pero se puede utilizar para mejorar la estabilidad computacional. Una elección común es $log C = -max_j f_j$. De esta forma, se desplazan todos los valores de forma tal en que el mayor termina siendo $0$."
   ]
  },
  {
   "cell_type": "code",
   "execution_count": 12,
   "metadata": {},
   "outputs": [
    {
     "name": "stdout",
     "output_type": "stream",
     "text": [
      "[  0.   0.  nan]\n",
      "[  5.75274406e-290   2.39848787e-145   1.00000000e+000]\n"
     ]
    },
    {
     "name": "stderr",
     "output_type": "stream",
     "text": [
      "/opt/anaconda3/lib/python3.6/site-packages/ipykernel_launcher.py:2: RuntimeWarning: overflow encountered in exp\n",
      "  \n",
      "/opt/anaconda3/lib/python3.6/site-packages/ipykernel_launcher.py:2: RuntimeWarning: invalid value encountered in true_divide\n",
      "  \n"
     ]
    }
   ],
   "source": [
    "f = np.array([123, 456, 789]) # example with 3 classes and each having large scores\n",
    "p = np.exp(f) / np.sum(np.exp(f)) # Bad: Numeric problem, potential blowup\n",
    "print(p)\n",
    "# instead: first shift the values of f so that the highest number is 0:\n",
    "f -= np.max(f) # f becomes [-666, -333, 0]\n",
    "p = np.exp(f) / np.sum(np.exp(f)) # safe to do, gives the correct answer\n",
    "print(p)"
   ]
  },
  {
   "cell_type": "markdown",
   "metadata": {},
   "source": [
    "#### Regularización\n",
    "\n",
    "Con el objetivo de diferenciar distintos conjuntos de parámetros que den como resultado perdidas $L$ similares, se agrega un término denominado \"pérdida de regularización\":\n",
    "\n",
    "\\begin{equation}\n",
    "L = \\frac{1}{N} \\; \\sum_{i} \\; L_i \\; + \\; \\lambda R(W)\n",
    "\\end{equation}\n",
    "\n",
    "Existen distintos métodos para realizar esta penalización, uno de los mas utilizados es la norma L2:\n",
    "\n",
    "\\begin{equation}\n",
    "R(W) = \\sum_{k} \\sum_{l} W^2_{k,l}\n",
    "\\end{equation}\n",
    "\n",
    "Como puede verser en la formula anterior, el objetivo es penalizar los pesos $W$ grandes por sobre los pequeños. Esto implica una mayor generalidad en el algoritmo, ya que, ninguna dimensión de entrada puede llegar a tener una influencia demasiado grande en los score por si sola. Como se prefieren pequeñas ponderaciones en todas las dimenciones frente a algunas pocas muy fuertes, esto disminute la tendencia al overfitting. \n",
    "Ejemplo: \n",
    "\n",
    "Si se considera la sigunte entrada $x$ y dos pesos $w_1$ y $w_2$:\n",
    "\\begin{align}\n",
    "x &= [1,1,1,1]\\\\\n",
    "w_1 &= [1,0,0,0]\\\\\n",
    "w_2 &= [0.25,0.25,0.25,0.25]\\\\\n",
    "w_1^T &= w_2^T = 1\\\\\n",
    "\\end{align}\n",
    "\n",
    "Como puede verse, todos llevan la misma pérdida, sin embargo, la penalidad **L2** debida al peso $w_1$ es 1 mientras que la debida al $w_2$ es 0.25.\n",
    "\n",
    "$\\lambda$ es un hiperparámetro que pondera la perdida. Es dificil de predecir y por lo general se obtiene mediante cross-validation. Como se mencionó anteriormente, la función softmax provee las \"probabilidades\" para cada clase, sin embargo, estas probabilidades pueden ser mas difusas o abruptas dependiendo del coeficiente de regulación $\\lambda$. Por ejemplo, si se supone que las porbabilidades logaritmicas no regularizadas para tres categorias son $[1, -2, 0]$, con la funcion softmax se calcularía:\n",
    "\n",
    "\\begin{equation}\n",
    "[1, -2, 0] \\rightarrow [e^1, e^{-2}, e^0] = [2.71,0.14,1] \\rightarrow [0.7,0.04,0.26]\n",
    "\\end{equation}\n",
    "\n",
    "Ahora, si el parametro $\\lambda$ se aumenta, los pesos $W$ mas grandes serían penalizados y por lo tanto, como resultado se obtendrían pesos de menor magnitud. Por ejemplo, si disminuyen a la mitad $[0.5, -1, 0]$, la funcion sofmax computaría:\n",
    "\n",
    "\\begin{equation}\n",
    "[0.5, -1, 0] \\rightarrow [e^{0.5}, e^{-1}, e^0] = [1.65,0.37,1] \\rightarrow [0.55,0.12,0.33]\n",
    "\\end{equation}\n",
    "\n",
    "Donde las probabilidades ahora son mas difusas. En el limite, donde los pesos tienden a numeros chicos debido a penalidades muy fuertes de $\\lambda$, las probabilidades tienden a la uniformidad.\n",
    "\n",
    "Agregando el término de regularización a la ecuación de pérdida, se obtiene:\n",
    "\n",
    "\\begin{equation}\n",
    "L_i = - log(\\frac{e^{s_k}}{\\sum_{j}e^{s_j} }) + \\sum_{k} \\sum_{l} W^2_{k,l}\n",
    "\\end{equation}\n",
    "\n",
    "The cross-entropy is a performance measure used in classification. The cross-entropy is a continuous function that is always positive and if the predicted output of the model exactly matches the desired output then the cross-entropy equals zero. __The goal of optimization is therefore to minimize the cross-entropy so it gets as close to zero as possible by changing the weights and biases of the model.__\n",
    "\n",
    "TensorFlow contiene funciones para calcular la entropia cruzada. Notar que se utilizan los valores de la variable logits por que se calcula el softmax internamente. Es decir, la siguiente API aplica la función _softmax_ y la entropia cruzada al resultado de $Wx_i \\, + \\, b$"
   ]
  },
  {
   "cell_type": "code",
   "execution_count": 13,
   "metadata": {},
   "outputs": [],
   "source": [
    "cross_entropy = tf.nn.softmax_cross_entropy_with_logits(logits=logits,\n",
    "                                                        labels=y_true)"
   ]
  },
  {
   "cell_type": "markdown",
   "metadata": {},
   "source": [
    "Una vez calculada la entropia cruzada para la clasificación de cada imagen, es decir, se medidó que tan bien el modelo se comporta para cada imagen individualmente. Sin embargo, se necesita un valor que pueda analizar el comportamiendo del modelo para todo el conjunto de entrenamiento. Entonces, simplemente se obtiene la media de la entropia cruzada de cada imagen:"
   ]
  },
  {
   "cell_type": "code",
   "execution_count": 14,
   "metadata": {},
   "outputs": [],
   "source": [
    "cost = tf.reduce_mean(cross_entropy)"
   ]
  },
  {
   "cell_type": "markdown",
   "metadata": {},
   "source": [
    "## Optimización\n",
    "\n",
    "A partir de las funciones de _score_ y _loss_, es necesario generar un proceso para elegir el conjunto de parámetros $W$ que minimice la función de pérdida. La optimización es un proceso estocastico e iterativo, donde en cada paso se intenta minimizar la función de pérdida. Para computar la mejor dirección en la que se debe modificar el conjunto de parámetros $W$ y así minimizar la función de pérdida, se utiliza el gradiente de la función de perdida. En una dimensión, la pendiente de la función es el ritmo de cambio instantaneo en cualquier punto, el gradiente es una generalizacion de la pendiente para funciones con más de una dimensión. El gradiente es un vector de pendientes para cada dimencion en el espacio de entrada (vector de derivadas parciales).\n",
    "\n",
    "### Gradient Decent\n",
    "\n",
    "Obtener el gradiente de la función de perdidas implica obtener la derivada parcial respecto a cada uno de los parametros $W$. El procedimiento de evaluar el gradente y luego actualizar los parametros se denomina _Gradient Descent_. El siguiente codigo muestra una versión simplificada (_vanilla_) del _loop_ que se encuentra en el código de todas las bibliotecas de redes neuronales. "
   ]
  },
  {
   "cell_type": "raw",
   "metadata": {},
   "source": [
    "# Vanilla Gradient Descent\n",
    "\n",
    "while True:\n",
    "  weights_grad = evaluate_gradient(loss_fun, data, weights)\n",
    "  weights += - step_size * weights_grad # perform parameter update"
   ]
  },
  {
   "cell_type": "markdown",
   "metadata": {},
   "source": [
    "Cuando el conjunto de entrenamiento es muy grande, es muy costoso evaluar la funcion de perdida en todos los datos unicamente para actualizar los parámetros. Una aproximación muy utilizadas es computar el gradiente para un lote aleatorio de datos que cambia en cada iteración (_Minibatch Gradient Descent_). El tamaño de este lote es un hiperparametro, pero no es comun que se obtenga por validación cruzada, sino por la limitación de memoria disponible."
   ]
  },
  {
   "cell_type": "raw",
   "metadata": {},
   "source": [
    "# Vanilla Minibatch Gradient Descent\n",
    "\n",
    "while True:\n",
    "  data_batch = sample_training_data(data, 256) # sample 256 examples\n",
    "  weights_grad = evaluate_gradient(loss_fun, data_batch, weights)\n",
    "  weights += - step_size * weights_grad # perform parameter update"
   ]
  },
  {
   "cell_type": "markdown",
   "metadata": {},
   "source": [
    "<img src=\"images/opt1.gif\" width=\"40%\">\n",
    "<img src=\"images/opt2.gif\" width=\"40%\">\n",
    "\n",
    "Image credit: Alec Radford (https://twitter.com/alecrad)"
   ]
  },
  {
   "cell_type": "markdown",
   "metadata": {},
   "source": [
    "## Backpropagation\n",
    "\n",
    "Como se mencionó anteriormente, para poder aplicar _Gradient Decent_ es necesario contar con el gradiente de la función de pérdidas, ya que es la forma más eficiente de aplicar este algoritmo de optimización. Sin embago, para algunas funciones de pérdidas, esto puede ser dificil de resolver. _Backpropagation_ es una forma de computar gradientes de expresiones a través de la aplicación de la _chain rule_, donde complejas funciones se resuelven dividiendolas en explresiones más sencillas hasta que cada una de ellas es fácil de resolver.\n",
    "Si se considera la expresión $f(x,y,z) = (x + y)z$ a modo de ejemplo, lo primero que se hace es dividirla en dos más sencillas: $q = x + y$ y $f = qz$. Calcular las derivas de ambas expresiones por separado es sencillo: $\\frac{\\partial f}{\\partial q} = z$ y $\\frac{\\partial f}{\\partial z} = q$"
   ]
  },
  {
   "cell_type": "code",
   "execution_count": 15,
   "metadata": {},
   "outputs": [
    {
     "name": "stdout",
     "output_type": "stream",
     "text": [
      "q = 3\n",
      "f = -12\n",
      "df/dz = 3\n",
      "df/dq = -4\n",
      "df/dx = -4.0\n",
      "df/dy = -4.0\n"
     ]
    }
   ],
   "source": [
    "# set some inputs\n",
    "in_x = -2; in_y = 5; in_z = -4\n",
    "\n",
    "# perform the forward pass\n",
    "q = in_x + in_y # q becomes 3\n",
    "f = q * in_z # f becomes -12\n",
    "print(\"q = \" + str(q) + \"\\nf = \" + str(f))\n",
    "# perform the backward pass (backpropagation) in reverse order:\n",
    "# first backprop through f = q * z\n",
    "dfdz = q # df/dz = q, so gradient on z becomes 3\n",
    "dfdq = in_z # df/dq = z, so gradient on q becomes -4\n",
    "print(\"df/dz = \" + str(dfdz) + \"\\ndf/dq = \" + str(dfdq))\n",
    "# now backprop through q = x + y\n",
    "dfdx = 1.0 * dfdq # dq/dx = 1. And the multiplication here is the chain rule!\n",
    "dfdy = 1.0 * dfdq # dq/dy = 1\n",
    "print(\"df/dx = \" + str(dfdx) + \"\\ndf/dy = \" + str(dfdy))"
   ]
  },
  {
   "cell_type": "code",
   "execution_count": 16,
   "metadata": {},
   "outputs": [],
   "source": [
    "optimizer = tf.train.GradientDescentOptimizer(learning_rate=0.5).minimize(cost)"
   ]
  },
  {
   "cell_type": "markdown",
   "metadata": {},
   "source": [
    "Function for performing a number of optimization iterations so as to gradually improve the weights and biases of the model. In each iteration, a new batch of data is selected from the training-set and then TensorFlow executes the optimizer using those training samples."
   ]
  },
  {
   "cell_type": "code",
   "execution_count": 17,
   "metadata": {},
   "outputs": [],
   "source": [
    "def optimize(num_iterations):\n",
    "    for i in range(num_iterations):\n",
    "        # Get a batch of training examples.\n",
    "        # x_batch now holds a batch of images and\n",
    "        # y_true_batch are the true labels for those images.\n",
    "        x_batch, y_true_batch = data.train.next_batch(batch_size)\n",
    "        \n",
    "        # Put the batch into a dict with the proper names\n",
    "        # for placeholder variables in the TensorFlow graph.\n",
    "        # Note that the placeholder for y_true_cls is not set\n",
    "        # because it is not used during training.\n",
    "        feed_dict_train = {x: x_batch,\n",
    "                           y_true: y_true_batch}\n",
    "\n",
    "        # Run the optimizer using this batch of training data.\n",
    "        # TensorFlow assigns the variables in feed_dict_train\n",
    "        # to the placeholder variables and then runs the optimizer.\n",
    "        session.run(optimizer, feed_dict=feed_dict_train)"
   ]
  },
  {
   "cell_type": "markdown",
   "metadata": {},
   "source": [
    "## Sesión de TensorFlow \n",
    "\n",
    "\n",
    "Es importante notar que hasta ahora no se corrió nada de TensorFlow, unicamente se agregaron los objetos al grafo de TensorFlow para ejecutarlo luego. Para poder ejecutarlo, es necesario primero crear una sesión e inicializar las variables de pesos y sesgos."
   ]
  },
  {
   "cell_type": "code",
   "execution_count": 19,
   "metadata": {},
   "outputs": [
    {
     "name": "stdout",
     "output_type": "stream",
     "text": [
      "Accuracy on test-set: 9.8%\n"
     ]
    },
    {
     "data": {
      "image/png": "[encoded data removed]",
      "text/plain": [
       "<matplotlib.figure.Figure at 0x7f379c432eb8>"
      ]
     },
     "metadata": {},
     "output_type": "display_data"
    },
    {
     "name": "stdout",
     "output_type": "stream",
     "text": [
      "Accuracy on test-set: 36.5%\n"
     ]
    },
    {
     "data": {
      "image/png": "[encoded data removed]",
      "text/plain": [
       "<matplotlib.figure.Figure at 0x7f3726ad29e8>"
      ]
     },
     "metadata": {},
     "output_type": "display_data"
    },
    {
     "data": {
      "image/png": "[encoded data removed]",
      "text/plain": [
       "<matplotlib.figure.Figure at 0x7f375cd29518>"
      ]
     },
     "metadata": {},
     "output_type": "display_data"
    }
   ],
   "source": [
    "correct_prediction = tf.equal(y_pred_cls, y_true_cls)\n",
    "accuracy = tf.reduce_mean(tf.cast(correct_prediction, tf.float32))\n",
    "\n",
    "feed_dict_test = {x: data.test.images,\n",
    "                  y_true: data.test.labels,\n",
    "                  y_true_cls: data.test.cls}\n",
    "\n",
    "session = tf.Session()\n",
    "session.run(tf.global_variables_initializer())\n",
    "batch_size = 100\n",
    "\n",
    "print_accuracy()\n",
    "plot_example_errors()\n",
    "optimize(num_iterations=1)\n",
    "print_accuracy()\n",
    "plot_example_errors()\n",
    "plot_weights()"
   ]
  },
  {
   "cell_type": "markdown",
   "metadata": {},
   "source": []
  },
  {
   "cell_type": "markdown",
   "metadata": {},
   "source": [
    "#Importante: En el PSO tengo que usar si o si cross validation! Ver la pagina de Optunity \n",
    "\n",
    "Cada nodo en el grapho representa una operación matemática, mientras que los bordes del grafico representan vectores de datos (tensores) que se comunican a traves de los nodos."
   ]
  }
 ],
 "metadata": {
  "kernelspec": {
   "display_name": "Python 3",
   "language": "python",
   "name": "python3"
  },
  "language_info": {
   "codemirror_mode": {
    "name": "ipython",
    "version": 3
   },
   "file_extension": ".py",
   "mimetype": "text/x-python",
   "name": "python",
   "nbconvert_exporter": "python",
   "pygments_lexer": "ipython3",
   "version": "3.6.1"
  }
 },
 "nbformat": 4,
 "nbformat_minor": 2
}
